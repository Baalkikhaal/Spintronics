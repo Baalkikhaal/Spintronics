{
 "cells": [
  {
   "cell_type": "raw",
   "metadata": {},
   "source": [
    "---\n",
    "layout: post\n",
    "title: Dispersion in refractive index\n",
    "tags: xrr\n",
    "published: true\n",
    "---"
   ]
  },
  {
   "cell_type": "raw",
   "metadata": {},
   "source": [
    "\n",
    "{% include mathjax.html %}\n"
   ]
  },
  {
   "cell_type": "markdown",
   "metadata": {},
   "source": [
    "# Dispersion in refractive index\n",
    "\n",
    "In this notebook, we visualize how the refractive index of Platinum varies with the wavelength of photon. This variation is called dispersion. Characteristic features include\n",
    "\n",
    "- the general decreasing trend of $\\delta$ and $\\beta$ with the energy, that respectively suggest that medium behaves nearly as a vacuum for higher energy photons. This is termed **normal dispersion**.\n",
    "- the real part of the refractive index is slightly less than 1 for photons more energetic than visible photons.\n",
    "- Spikes in the imaginary part of the refractive index at characteristic energies that correspond to the lines of absorption for the material. This is termed **anomalous dispersion**.\n",
    "- As we work with metallic ultra-thin films, we shall study the dispersion of refractive in Pt as a representative of metals. Data is sourced from the [atomic scattering files](https://henke.lbl.gov/optical_constants/asf.html) of the Centre for X-ray Optics from Berkeley Lab.\n",
    "- To explain these features of dispersion in refractive index, we model the material as a collection of classical Lorentz oscillators with a dispersion in the density of these oscillators. The dispersion behaviour is also understood from a quantum mechanical counterpart of this theory.  "
   ]
  },
  {
   "cell_type": "code",
   "execution_count": 1,
   "metadata": {},
   "outputs": [],
   "source": [
    "import numpy as np\n",
    "from scipy.constants import pi, Avogadro, physical_constants\n",
    "import matplotlib as mpl\n",
    "import matplotlib.pyplot as plt\n",
    "#mpl.style.use('../assets/matplotlib/myMatplotlibStylesheet.mplstyle')"
   ]
  },
  {
   "cell_type": "code",
   "execution_count": 2,
   "metadata": {},
   "outputs": [],
   "source": [
    "#%config InlineBackend.print_figure_kwargs = {'bbox_inches':(0, 0, 3, 3)}"
   ]
  },
  {
   "cell_type": "code",
   "execution_count": 3,
   "metadata": {},
   "outputs": [],
   "source": [
    "%matplotlib inline"
   ]
  },
  {
   "cell_type": "code",
   "execution_count": 4,
   "metadata": {},
   "outputs": [],
   "source": [
    "from scipy.constants import h, c, e"
   ]
  },
  {
   "cell_type": "code",
   "execution_count": 5,
   "metadata": {},
   "outputs": [
    {
     "name": "stdout",
     "output_type": "stream",
     "text": [
      "1.2398419843320026e-06\n"
     ]
    }
   ],
   "source": [
    "print(h*c/e)"
   ]
  },
  {
   "cell_type": "code",
   "execution_count": 6,
   "metadata": {},
   "outputs": [],
   "source": [
    "#%% Constants\n",
    "energy_CuKa = 8.051e3    # energy of photon corresponding to 1.54 Å.\n",
    "\n",
    "z_pt, m_pt = 78, 195.078 # Atomic number and atomic weight of Pt.\n",
    "rho_pt = 2.15e+4  # density in kg per m^3\n",
    "\n",
    "r_e = physical_constants['classical electron radius'][0]          # classical radius of electron (in m)\n"
   ]
  },
  {
   "cell_type": "code",
   "execution_count": 7,
   "metadata": {},
   "outputs": [],
   "source": [
    "lambda_xrr = h*c/e/ energy_CuKa   # wavelength of photon used for XRR measurement (in m)."
   ]
  },
  {
   "cell_type": "code",
   "execution_count": 8,
   "metadata": {},
   "outputs": [
    {
     "data": {
      "text/plain": [
       "1.539985075558319e-10"
      ]
     },
     "execution_count": 8,
     "metadata": {},
     "output_type": "execute_result"
    }
   ],
   "source": [
    "lambda_xrr"
   ]
  },
  {
   "cell_type": "markdown",
   "metadata": {},
   "source": [
    "## My TeX \\newcommands\n",
    "\n",
    "{% comment %} \n",
    "\n",
    "{% raw %} \n",
    "\n",
    "$$\n",
    "\\newcommand{\\myScaSub}[2]{{#1}_\\mathrm{#2}}\n",
    "$$\n",
    "\n",
    "$$\n",
    "\\newcommand{\\myVec}[1]{\\mathbf{ { \\mathrm{#1} } } }\n",
    "$$\n",
    "\n",
    "{% endraw %} \n",
    "\n",
    "{% endcomment %} "
   ]
  },
  {
   "cell_type": "markdown",
   "metadata": {},
   "source": [
    "## Classical theory of refractive index\n",
    "\n",
    "We consider the interaction of light with matter in a simple model of an electron tied to the nucleus using a spring-like force with a spring constant $k$ and an associated damping characterized by the damping factor $\\eta$. The force due to the electric field of light acts only upon the electron. The mechanics of the nucleus can be neglected owing to its larger mass.\n",
    "The governing equation of motion is\n",
    "\n",
    "$$\n",
    "F_{drive} - kx - m \\eta \\dot{x} = m \\ddot{x}\n",
    "$$\n",
    "\n",
    "Rewriting the spring constant in terms of the natural frequency of the oscillator $\\omega_0$ given by\n",
    "\n",
    "$$\n",
    "k = m \\omega_0^2\n",
    "$$\n",
    "\n",
    "we have\n",
    "\n",
    "$$\n",
    "F_{drive} - m \\omega_0^2 x - m \\eta \\dot{x} = m \\ddot{x}\n",
    "$$\n",
    "\n",
    "Consider a photon with frequency $\\omega$ incident on this simple atom. The associated harmonic driving force is given by\n",
    "\n",
    "$$\n",
    "F_{drive} = - e E(t) = - e E_{0} e^{i \\omega t}\n",
    "$$\n",
    "\n",
    "This force drives the electron, whose relative displacement $\\delta x$ from the mean position can also be assumed to be of frequency within the linear response approximation so that\n",
    "\n",
    "$$\n",
    "\\delta x = x_{0} e^{i \\omega t}\n",
    "$$\n",
    "\n",
    "Substituting the harmonic expressions for the relative displacement and the force gives\n",
    "\n",
    "\n",
    "$$\n",
    "x_{0}(\\omega) = - \\frac{e E_{0}(\\omega)}{m} \\frac{1}{ \\omega_0^2 - \\omega^2 + \\iota \\eta \\omega}\n",
    "$$"
   ]
  },
  {
   "cell_type": "markdown",
   "metadata": {},
   "source": [
    "This displacement gives rise to a dipole moment with the same frequency given by\n",
    "\n",
    "$$\n",
    "\\myScaSub{\\mu}{e} = -e x_{0}(\\omega),\n",
    "$$\n",
    "\n",
    "so that if the number density of electrons is $N$, then the polarization, the total dipole moment per unit volume is given by\n",
    "\n",
    "$$\n",
    "P(\\omega) = N \\myScaSub{\\mu}{e} = - N ex_{0}(\\omega)\n",
    "$$"
   ]
  },
  {
   "cell_type": "markdown",
   "metadata": {},
   "source": [
    "This polarization can be expressed as linear response to the applied electric field with constant of proportionality, the susceptibility $\\chi$ given by\n",
    "\n",
    "$$\n",
    "P(\\omega) = \\myScaSub{\\epsilon}{0} \\chi (\\omega) E_{0}(\\omega),\n",
    "$$\n",
    "\n",
    "so that\n",
    "\n",
    "$$\n",
    "\\chi (\\omega) = \\frac{N e^2 }{m \\myScaSub{\\epsilon}{0}} \\frac{1}{\\omega_0^2 - \\omega^2 + \\iota \\eta \\omega}\n",
    "$$"
   ]
  },
  {
   "cell_type": "markdown",
   "metadata": {},
   "source": [
    "### Relative permitivity\n",
    "\n",
    "Now this polarization leads to difference in the electric field $\\myVec{E}$ and the displacement $\\myVec{D}$ given by the Maxwell's equation\n",
    "\n",
    "$$\n",
    "\\myVec{D} = \\myScaSub{\\epsilon}{0}\\myVec{E} + \\myVec{P}\n",
    "$$"
   ]
  },
  {
   "cell_type": "markdown",
   "metadata": {},
   "source": [
    "As a result, the response of a dielectric medium is polarization. This effect is experimentally measured in terms of relative permitivity $\\myScaSub{\\epsilon}{r}$ given by\n",
    "\n",
    "$$\n",
    "\\myVec{D} = \\myScaSub{\\epsilon}{r}\\myScaSub{\\epsilon}{0}\\myVec{E},\n",
    "$$\n",
    "\n",
    "so that\n",
    "\n",
    "$$\n",
    "\\myScaSub{\\epsilon}{r}(\\omega) = 1 + \\chi (\\omega) \n",
    "$$"
   ]
  },
  {
   "cell_type": "markdown",
   "metadata": {},
   "source": [
    "If we define the plasma frequency $\\myScaSub{\\omega}{p}$ as\n",
    "\n",
    "$$\n",
    "\\myScaSub{\\omega}{p}^2 = \\frac{N e^2 }{m \\myScaSub{\\epsilon}{0}},\n",
    "$$\n",
    "\n",
    "then\n",
    "\n",
    "$$\n",
    "\\myScaSub{\\epsilon}{r}(\\omega) = 1 + \\frac{\\myScaSub{\\omega}{p}^2}{\\omega^2 - \\omega_0^2 + \\iota \\eta \\omega}\n",
    "$$"
   ]
  },
  {
   "cell_type": "markdown",
   "metadata": {},
   "source": [
    "> This important equation says that relativity permitivity depends on the frequency of the field as well as the material's plasma frequency and damping factor."
   ]
  },
  {
   "cell_type": "markdown",
   "metadata": {},
   "source": [
    "### Estimate of relative permitivity\n",
    "\n",
    "Using the typical values of [plasma frequency](../basics/optical_properties_of_metals.ipynb#Estimate-of-plasma-frequency), [damping factor](../basics/optical_properties_of_metals.ipynb#Estimate-of-damping-factor), and $\\omega_0 = 0$ for metals, we have\n",
    "\n",
    "$$\n",
    "\\myScaSub{\\omega}{p} \\sim 3 \\,\\mathrm{PHz},\n",
    "$$\n",
    "\n",
    "$$\n",
    "\\eta \\sim 0.1 \\myScaSub{\\omega}{p},\n",
    "$$\n",
    "\n",
    "so that\n",
    "\n",
    "$$\n",
    "\\myScaSub{\\epsilon}{r} = 1 + \\frac{\\myScaSub{\\omega}{p}^2}{- \\omega^2  + \\iota \\eta \\omega}\n",
    "$$\n",
    "\n",
    "If we resolve this complex quantity into real and imaginary components as\n",
    "\n",
    "$$\n",
    "\\myScaSub{\\epsilon}{r} = \\myScaSub{\\epsilon}{real}  + \\iota \\myScaSub{\\epsilon}{imag},\n",
    "$$\n",
    "\n",
    "where\n",
    "\n",
    "$$\n",
    "\\myScaSub{\\epsilon}{real} = 1 - \\frac{\\myScaSub{\\omega}{p}^2}{\\omega^2  + \\eta^2},\n",
    "$$\n",
    "\n",
    "and\n",
    "\n",
    "$$\n",
    "\\myScaSub{\\epsilon}{imag} = -  \\frac{\\myScaSub{\\omega}{p}^2}{\\omega}\\frac{\\eta}{\\omega^2  + \\eta^2}.\n",
    "$$"
   ]
  },
  {
   "cell_type": "markdown",
   "metadata": {},
   "source": [
    "In the special case of X-rays, for a wavelength of $1.54 \\,\\mathrm{A}^\\circ$, the frequency is\n",
    "\n",
    "nearly $2000 \\, \\mathrm{PHz} \\sim 650 \\myScaSub{\\omega}{p}$. So unless there is anomalous dispersion, we have\n",
    "\n",
    "$$\n",
    "\\myScaSub{\\epsilon}{real} = 1 - \\frac{1}{650^2  + 0.1^2} = 1- 2.4\\cdot 10^{-6},\n",
    "$$\n",
    "\n",
    "and\n",
    "\n",
    "$$\n",
    "\\myScaSub{\\epsilon}{imag} = -  \\frac{1}{650}\\frac{0.1}{650^2  + 0.1^2} = -3.6\\cdot 10^{-10}.\n",
    "$$"
   ]
  },
  {
   "cell_type": "code",
   "execution_count": 9,
   "metadata": {},
   "outputs": [],
   "source": [
    "# Frequency of X-rays in PHz\n",
    "\n",
    "f_xrays = c/lambda_xrr/1e+15"
   ]
  },
  {
   "cell_type": "code",
   "execution_count": 10,
   "metadata": {
    "scrolled": true
   },
   "outputs": [
    {
     "data": {
      "text/plain": [
       "1946.7231388025675"
      ]
     },
     "execution_count": 10,
     "metadata": {},
     "output_type": "execute_result"
    }
   ],
   "source": [
    "f_xrays"
   ]
  },
  {
   "cell_type": "code",
   "execution_count": 11,
   "metadata": {},
   "outputs": [
    {
     "data": {
      "text/plain": [
       "648.9077129341891"
      ]
     },
     "execution_count": 11,
     "metadata": {},
     "output_type": "execute_result"
    }
   ],
   "source": [
    "# Frequency of X-rays in units of w_p\n",
    "w_p = 3\n",
    "f_xrays/3"
   ]
  },
  {
   "cell_type": "code",
   "execution_count": 12,
   "metadata": {},
   "outputs": [
    {
     "data": {
      "text/plain": [
       "2.3668638493049977e-06"
      ]
     },
     "execution_count": 12,
     "metadata": {},
     "output_type": "execute_result"
    }
   ],
   "source": [
    "1/(650**2 + 0.1**2)"
   ]
  },
  {
   "cell_type": "code",
   "execution_count": 13,
   "metadata": {},
   "outputs": [
    {
     "data": {
      "text/plain": [
       "3.6413289989307657e-10"
      ]
     },
     "execution_count": 13,
     "metadata": {},
     "output_type": "execute_result"
    }
   ],
   "source": [
    "1/650*0.1/(650**2 + 0.1**2)"
   ]
  },
  {
   "cell_type": "markdown",
   "metadata": {},
   "source": [
    "### Refractive index\n",
    "\n"
   ]
  },
  {
   "cell_type": "markdown",
   "metadata": {},
   "source": [
    "### Case: No damping\n",
    "\n",
    "In the case of no damping, $\\eta = 0$, then the amplitude of displacement is purely real. So that the the actual displacement of electron is oscillatory. For illustration let us consider practical values of $eE_0 = 1$~eV/nm "
   ]
  },
  {
   "cell_type": "markdown",
   "metadata": {},
   "source": [
    "## Quantum theory of refractive index\n",
    "\n",
    "Reference: Paratt Phys Rev [1954]\n",
    "\n",
    "The quantum theory of radiation accounts for the dispersion of the atomic scattering factors, by assuming a distribution of \"dispersion\" oscillators. The number of oscillators $\\mathrm{d}g$ within a window of $\\omega$ and $\\omega + \\mathrm{d}\\omega$ is \n",
    "\n",
    "$$\n",
    "\\mathrm{d}g = \\Gamma(\\omega) \\mathrm{d}\\omega.\n",
    "$$\n",
    "\n",
    "The response of the medium is then governed by the effective number $g$ of oscillators in the vicinity of the radiation, also called the **oscillator strength**. If we know the oscillator density, we can have a fair idea about the optical response of the medium. Now this density is related to the photo electric absorption coefficient $\\mu $ by\n",
    "\n",
    "$$\n",
    "\\Gamma(\\omega) = \\frac{m_e c}{2 \\pi^2 e^2} \\mu (\\omega),\n",
    "$$\n",
    "\n",
    "so that if we know the dispersion of the photo-electric coefficient, we know the optical response of the medium.\n",
    "\n",
    "\n",
    "Here we make an **assumption** that the dispersion of the photo-electric coefficient follows a power law. Further, we invoke the **quantum nature** of the interaction that forbids absorption of radiation with frequencies smaller than the characteristic frequency $\\omega_q$ of the electrons. This is due to the quantization of the electronic motion around the nucleus in the form of shells. If we denote the characteristic frequency of the $q^\\mathrm{th}$ shell of atom by $\\omega_q$, then\n",
    "\n",
    "$$\n",
    "\\mu (\\omega) = \\left(\\frac{\\omega_q}{\\omega}\\right)^{p_q} \\mu_q \\quad (\\omega \\geq \\omega_q)\n",
    "$$\n",
    "\n",
    "where $p_q$ is the exponent of the power law distribution of the oscillators and is typically taken to be 3 for calculation purposes. However, it has different values for different shells as\n",
    "\n",
    "\n",
    "\\begin{array}{ll}\n",
    "K & \\frac{11}{4} \\\\\n",
    "L & \\frac{7}{3}  \\\\\n",
    "M & \\frac{5}{2}\n",
    "\\end{array}"
   ]
  },
  {
   "cell_type": "code",
   "execution_count": 14,
   "metadata": {},
   "outputs": [],
   "source": [
    "#%% Extract the data\n",
    "raw_data_pt = '../assets/raw_data/pt.nff'     # atomic scattering factors\n",
    "data = np.loadtxt(raw_data_pt, skiprows=1, unpack=True)"
   ]
  },
  {
   "cell_type": "code",
   "execution_count": 15,
   "metadata": {},
   "outputs": [],
   "source": [
    "energies = data[0]\n",
    "f1s = data[1]\n",
    "f2s = data[2]"
   ]
  },
  {
   "cell_type": "markdown",
   "metadata": {},
   "source": [
    "## Anomalous dispersion\n",
    "\n",
    "The normal dispersion monotonically increases with the energy of the photon. However, in the **left** neighbourhood vicinity of the characteristic frequencies associated with the absorption of photon by the inner electronic shells, there is a decrease of the dispersion with the energy, also called **anomalous** dispersion."
   ]
  },
  {
   "cell_type": "markdown",
   "metadata": {},
   "source": [
    "For Pt, the characteristic frequencies of photon absorption correspond to the ejection of electrons from the inner K, L, M shells and are given by\n",
    "\n",
    "\\begin{array}{ll}\n",
    "\\mathrm{line} & eV \\\\\n",
    "K_1 & 78394.8 \\\\\n",
    "L_1 & 13880.7 \\\\\n",
    "L_2 & 13271.9 \\\\\n",
    "L_3 & 11562.8 \\\\\n",
    "M_1 & 3296.0  \\\\\n",
    "M_2 & 3026.5 \\\\\n",
    "M_3 & 2645.4 \\\\\n",
    "M_4 & 2201.9 \\\\\n",
    "M_5 & 2121.6 \\\\\n",
    "N_1 & 725.4  \\\\\n",
    "N_2 & 609.1  \\\\\n",
    "N_3 & 519.4  \\\\\n",
    "N_4 & 331.6  \\\\\n",
    "N_5 & 314.6  \\\\\n",
    "N_6 & 74.5   \\\\\n",
    "N_7 & 71.2   \\\\\n",
    "O_1 & 101.7  \\\\\n",
    "O_2 & 65.3   \\\\\n",
    "O_3 & 51.7   \\\\\n",
    "\\end{array}"
   ]
  },
  {
   "cell_type": "code",
   "execution_count": 16,
   "metadata": {},
   "outputs": [],
   "source": [
    "lines = [\n",
    "            [r'$K_1$',\n",
    "             r'$L_1$', r'$L_2$', r'$L_3$',\n",
    "             r'$M_1$', r'$M_2$', r'$M_3$', r'$M_4$', r'$M_5$',\n",
    "             r'$N_1$', r'$N_2$', r'$N_3$', r'$N_4$', r'$N_5$', r'$N_6$', r'$N_7$',\n",
    "             r'$O_1$', r'$O_2$', r'$O_3$'],\n",
    "            [78394.8,\n",
    "             13880.7, 13271.9, 11562.8,\n",
    "             3296, 3026.5, 2645.4, 2201.9, 2121.6,\n",
    "             725.4, 609.1, 519.4, 331.6, 314.6, 74.5, 71.2,\n",
    "             101.7, 65.3, 51.7\n",
    "            ]\n",
    "        ]"
   ]
  },
  {
   "cell_type": "code",
   "execution_count": 17,
   "metadata": {},
   "outputs": [
    {
     "data": {
      "text/plain": [
       "68.8083"
      ]
     },
     "execution_count": 17,
     "metadata": {},
     "output_type": "execute_result"
    }
   ],
   "source": [
    "f1s[np.argmin((energies - lines[1][1])**2)]"
   ]
  },
  {
   "cell_type": "code",
   "execution_count": 18,
   "metadata": {
    "scrolled": true
   },
   "outputs": [
    {
     "data": {
      "text/plain": [
       "Text(0, 0.5, '$f_1, f_2$')"
      ]
     },
     "execution_count": 18,
     "metadata": {},
     "output_type": "execute_result"
    },
    {
     "data": {
      "image/png": "[encoded data removed]",
      "text/plain": [
       "<Figure size 432x288 with 1 Axes>"
      ]
     },
     "metadata": {
      "needs_background": "light"
     },
     "output_type": "display_data"
    }
   ],
   "source": [
    "#%% Plot the dispersion of scattering factor with energy.\n",
    "\n",
    "fig, ax = plt.subplots()\n",
    "\n",
    "x_min = 5e+1\n",
    "ax.plot(energies[energies > x_min], f1s[energies > x_min], '-', label=r'$f_1^\\mathrm{Pt}$')\n",
    "ax.plot(energies[energies> x_min], f2s[energies> x_min], '-', label=r'$f_2^\\mathrm{Pt}$')\n",
    "\n",
    "ax.axvline(energy_CuKa, color='C2')\n",
    "ax.text(energy_CuKa, 0.2, r'$E=8.05$ keV $\\equiv 1.54\\,A\\!^{\\circ}$ ', transform=ax.get_xaxis_transform(),\n",
    "        rotation='vertical')\n",
    "\n",
    "ax.axhline(z_pt, color='C3', ls = '--')\n",
    "ax.text(0.2, z_pt, r'$Z_\\mathrm{Pt}$ ', transform=ax.get_yaxis_transform(),\n",
    "        va='top', rotation='horizontal')\n",
    "\n",
    "# Annotate the anomalous dispersion peaks.\n",
    "#line_energy = lines[1][1]\n",
    "#line_name = lines[0][1]\n",
    "#ax.text(line_energy, f1s[np.argmin((energies - lines[1][1])**2)], line_name,\n",
    "#        #transform=ax.get_xaxis_transform(),\n",
    "#        va='top', rotation='horizontal')\n",
    "\n",
    "for line_name, line_energy in zip (lines[0], lines[1]):\n",
    "    ax.text(line_energy, f1s[np.argmin((energies - line_energy)**2)], line_name,\n",
    "            #transform=ax.get_xaxis_transform(),\n",
    "            va='center', rotation='horizontal')\n",
    "\n",
    "\n",
    "ax.legend()\n",
    "ax.set_xscale('log')\n",
    "ax.set_yscale('log')\n",
    "\n",
    "# Set the ticks in log scale.\n",
    "major_ticks = mpl.ticker.LogLocator(base=10.0)\n",
    "minor_ticks = mpl.ticker.LogLocator(base=10.0, subs=np.arange(1, 10), numticks=10)\n",
    "\n",
    "#ax.xaxis.set_major_locator(major_ticks)\n",
    "#ax.xaxis.set_minor_locator(minor_ticks)\n",
    "#ax.yaxis.set_major_locator(major_ticks)\n",
    "#ax.yaxis.set_minor_locator(minor_ticks)\n",
    "\n",
    "ax.set_xlabel(r'$E$ (in eV)')\n",
    "ax.set_ylabel(r'$f_1, f_2$')\n"
   ]
  },
  {
   "cell_type": "code",
   "execution_count": 19,
   "metadata": {},
   "outputs": [],
   "source": [
    "fig.savefig('../assets/images/dispersion_scattering_factor_Pt.png')\n",
    "fig.savefig('../assets/images/dispersion_scattering_factor_Pt.pdf')"
   ]
  },
  {
   "cell_type": "code",
   "execution_count": 20,
   "metadata": {},
   "outputs": [],
   "source": [
    "# Get the lambdas from energies.\n",
    "\n",
    "lambdas = np.array([h*c/e/ energy for energy in energies])"
   ]
  },
  {
   "cell_type": "code",
   "execution_count": 21,
   "metadata": {},
   "outputs": [
    {
     "data": {
      "text/plain": [
       "Text(0, 0.5, '$f_1, f_2$')"
      ]
     },
     "execution_count": 21,
     "metadata": {},
     "output_type": "execute_result"
    },
    {
     "data": {
      "image/png": "[encoded data removed]",
      "text/plain": [
       "<Figure size 432x288 with 1 Axes>"
      ]
     },
     "metadata": {
      "needs_background": "light"
     },
     "output_type": "display_data"
    }
   ],
   "source": [
    "#%% Plot the dispersion of scattering factor with wavelength.\n",
    "\n",
    "fig, ax = plt.subplots()\n",
    "\n",
    "lambda_max = 1e-8\n",
    "ax.plot(lambdas[lambdas < lambda_max]/1e-10, f1s[lambdas < lambda_max], '-', label=r'$f_1^\\mathrm{Pt}$')\n",
    "ax.plot(lambdas[lambdas < lambda_max]/1e-10, f2s[lambdas < lambda_max], '-', label=r'$f_2^\\mathrm{Pt}$')\n",
    "\n",
    "ax.axvline(lambda_xrr/1e-10, color='C2')\n",
    "ax.text(lambda_xrr/1e-10, 0.2, r'$E=8.05$ keV $\\equiv 1.54\\,A\\!^{\\circ}$ ', transform=ax.get_xaxis_transform(),\n",
    "        rotation='vertical')\n",
    "\n",
    "ax.axhline(z_pt, color='C3', ls = '--')\n",
    "ax.text(0.2, z_pt, r'$Z_\\mathrm{Pt}$ ', transform=ax.get_yaxis_transform(),\n",
    "        va='top', rotation='horizontal')\n",
    "\n",
    "ax.legend()\n",
    "ax.set_xscale('log')\n",
    "#ax.set_yscale('log')\n",
    "\n",
    "# Set the ticks in log scale.\n",
    "major_ticks = mpl.ticker.LogLocator(base=10.0)\n",
    "minor_ticks = mpl.ticker.LogLocator(base=10.0, subs=np.arange(1, 10), numticks=10)\n",
    "\n",
    "#ax.xaxis.set_major_locator(major_ticks)\n",
    "#ax.xaxis.set_minor_locator(minor_ticks)\n",
    "#ax.yaxis.set_major_locator(major_ticks)\n",
    "#ax.yaxis.set_minor_locator(minor_ticks)\n",
    "\n",
    "ax.set_xlabel(r'$\\lambda$ (in $A\\!^{\\circ}$)')\n",
    "ax.set_ylabel(r'$f_1, f_2$')\n"
   ]
  },
  {
   "cell_type": "markdown",
   "metadata": {},
   "source": [
    "## Convert atomic scattering factor into refractive index\n",
    "\n",
    "Using the relation\n",
    "\n",
    "$$\n",
    "\\delta + \\iota \\beta =  \\frac{r_e \\lambda^2 N_A}{2\\pi M_a}  \\rho  \\left( f_1 + \\iota f_2 \\right)\n",
    "$$\n",
    "\n",
    "where $\\myScaSub{M}{a}$ is the atomic mass, $\\rho$ is the density of material in \\si{\\gram\\per\\centi\\metre\\cubed}, $\\myScaSub{r}{e} = 2.818\\, \\mathrm{nm}$ is the classical radius of electron, $\\lambda=$ 1.54 Å is the wavelength of photon. This gives a relation between the atomic scattering factors, the density and the refractive index as\n",
    "\n",
    "$$\n",
    "\\delta + \\iota \\beta =  6.406 \\cdot 10^{-6}  \\rho \\frac{  f_1 + \\iota f_2 }{M_a}\n",
    "$$\n",
    "\n"
   ]
  },
  {
   "cell_type": "markdown",
   "metadata": {},
   "source": [
    "### Relation between energy and wavelength of photon\n",
    "\n",
    "$$\n",
    "E \\, \\mathrm{ (in eV)} = \\frac{1.24}{\\lambda \\, \\mathrm{ (in mum)}}\n",
    "$$"
   ]
  },
  {
   "cell_type": "markdown",
   "metadata": {},
   "source": [
    "## Relation between refractive index and the scatering factor\n",
    "\n",
    "Reference: Paratt, Phys Rev[1954]\n",
    "\n",
    "As per the quantum theory of radiation, the refractive index for X-rays is given as\n",
    "\n",
    "$$\n",
    "n = 1 - (\\delta + \\iota \\beta)\n",
    "$$\n",
    "\n",
    "where $\\delta$ for a medium containing different atomic species $s$ is\n",
    "\n",
    "$$\n",
    "\\delta = \\sum_{s} \\delta_{s},\n",
    "$$\n",
    "\n",
    "where\n",
    "\n",
    "$$\n",
    "\\delta_{s} = \\sum_{s} A_{s} \\lambda^2 f_1,\n",
    "$$\n",
    "\n",
    "where $f_1$ is the atomic scattering factor and\n",
    "\n",
    "$$\n",
    "A_{s} = \\frac{N_A r_e}{2\\pi} \\frac{\\rho_{s}}{M_{s}}\\cdot 10^{3}, \n",
    "$$\n",
    "\n",
    "is the prefactor corresponding to the material, where $N_A$ is the Avogadro number, $r_e = e^2/m_e c^2 = 2.8 \\cdot 10^{-15}\\, \\mathrm{m}$ is the classical electron radius, $\\rho_s, M_s$ are the density in $\\mathrm{kg/m}^3$ and atomic mass in $\\mathrm{Da}$ of the species $s$ \n",
    "for very small scattering angle (close to zero), where $f_1$ is the atomic scattering factor."
   ]
  },
  {
   "cell_type": "code",
   "execution_count": 22,
   "metadata": {},
   "outputs": [],
   "source": [
    "# Estimate the refractive index from atomic scattering factors.\n",
    "\n",
    "a_s = Avogadro * r_e /(2*pi) * rho_pt / m_pt * 1e+3"
   ]
  },
  {
   "cell_type": "code",
   "execution_count": 23,
   "metadata": {
    "scrolled": true
   },
   "outputs": [
    {
     "data": {
      "text/plain": [
       "2.9766857718838953"
      ]
     },
     "execution_count": 23,
     "metadata": {},
     "output_type": "execute_result"
    }
   ],
   "source": [
    "a_s/1e+13"
   ]
  },
  {
   "cell_type": "markdown",
   "metadata": {},
   "source": [
    "The prefactor $A_{s} \\sim 3\\cdot10^{13}\\, \\mathrm{m}^{-2}$ so that for X-ray from $K_\\alpha^\\mathrm{Cu}=1.54 A^{\\!0}$, the refractive index in terms of atomic scattering factor $f_1= 73.66 + \\iota 7.2356$ as "
   ]
  },
  {
   "cell_type": "code",
   "execution_count": 24,
   "metadata": {},
   "outputs": [],
   "source": [
    "f1_pt, f2_pt = 73.66, 7.232\n",
    "delta_pt, beta_pt = [a_s  * lambda_xrr**2 * f_pt for f_pt in [f1_pt, f2_pt]]"
   ]
  },
  {
   "cell_type": "code",
   "execution_count": 25,
   "metadata": {},
   "outputs": [
    {
     "data": {
      "text/plain": [
       "(5.1999327869637284e-05, 5.105337213592409e-06)"
      ]
     },
     "execution_count": 25,
     "metadata": {},
     "output_type": "execute_result"
    }
   ],
   "source": [
    "delta_pt, beta_pt"
   ]
  },
  {
   "cell_type": "markdown",
   "metadata": {},
   "source": [
    "## $\\delta$'s and $\\beta$'s from scattering factors\n",
    "\n",
    "As seen above there is a $\\lambda^2$ prefactor in the dependence of $\\delta$ on the scattering factor $f_1$. "
   ]
  },
  {
   "cell_type": "code",
   "execution_count": 26,
   "metadata": {},
   "outputs": [],
   "source": [
    "deltas = np.array([a_s * lamb**2 * f1 for lamb, f1  in zip(lambdas, f1s)])\n",
    "betas = np.array([a_s * lamb**2 * f2 for lamb, f2  in zip(lambdas, f2s)])"
   ]
  },
  {
   "cell_type": "code",
   "execution_count": 27,
   "metadata": {},
   "outputs": [
    {
     "data": {
      "text/plain": [
       "Text(0, 0.5, '$n(E)= 1 - \\\\delta(E) + i \\\\beta(E)$')"
      ]
     },
     "execution_count": 27,
     "metadata": {},
     "output_type": "execute_result"
    },
    {
     "data": {
      "image/png": "[encoded data removed]",
      "text/plain": [
       "<Figure size 432x288 with 1 Axes>"
      ]
     },
     "metadata": {
      "needs_background": "light"
     },
     "output_type": "display_data"
    }
   ],
   "source": [
    "#%% Plot the data.\n",
    "\n",
    "fig, ax = plt.subplots()\n",
    "\n",
    "x_min = 5e+1\n",
    "ax.plot(energies[energies > x_min], deltas[energies > x_min], '-', label=r'$\\delta_\\mathrm{Pt}$')\n",
    "ax.plot(energies[energies> x_min], betas[energies> x_min], '-', label=r'$\\beta_\\mathrm{Pt}$')\n",
    "\n",
    "ax.axvline(energy_CuKa, color='C2')\n",
    "ax.text(energy_CuKa, 0.2, r'$E=8.05$ keV $\\equiv 1.54\\,A\\!^{\\circ}$ ', transform=ax.get_xaxis_transform(),\n",
    "        rotation='vertical')\n",
    "\n",
    "ax.legend()\n",
    "ax.set_xscale('log')\n",
    "ax.set_yscale('log')\n",
    "\n",
    "# Set the ticks in log scale.\n",
    "major_ticks = mpl.ticker.LogLocator(base=10.0)\n",
    "minor_ticks = mpl.ticker.LogLocator(base=10.0, subs=np.arange(1, 10), numticks=10)\n",
    "\n",
    "#ax.xaxis.set_major_locator(major_ticks)\n",
    "#ax.xaxis.set_minor_locator(minor_ticks)\n",
    "ax.yaxis.set_major_locator(major_ticks)\n",
    "ax.yaxis.set_minor_locator(minor_ticks)\n",
    "\n",
    "ax.set_xlabel(r'$E$ (in eV)')\n",
    "ax.set_ylabel(r'$n(E)= 1 - \\delta(E) + i \\beta(E)$')"
   ]
  },
  {
   "cell_type": "code",
   "execution_count": 28,
   "metadata": {},
   "outputs": [],
   "source": [
    "fig.savefig('../assets/images/dispersion_refractive_index_Pt.png')\n",
    "fig.savefig('../assets/images/dispersion_refractive_index_Pt.pdf')"
   ]
  },
  {
   "cell_type": "code",
   "execution_count": 29,
   "metadata": {},
   "outputs": [],
   "source": [
    "from scipy.constants import epsilon_0"
   ]
  },
  {
   "cell_type": "code",
   "execution_count": 30,
   "metadata": {},
   "outputs": [
    {
     "data": {
      "text/plain": [
       "8.8541878128e-12"
      ]
     },
     "execution_count": 30,
     "metadata": {},
     "output_type": "execute_result"
    }
   ],
   "source": [
    "epsilon_0"
   ]
  },
  {
   "cell_type": "markdown",
   "metadata": {},
   "source": [
    "## Direct plotting of refractive indices \n",
    "\n",
    "CXRO also provides database of the refractive indices.\n",
    "\n",
    "Let us plot them."
   ]
  },
  {
   "cell_type": "code",
   "execution_count": 31,
   "metadata": {},
   "outputs": [],
   "source": [
    "raw_data_n = '../assets/raw_data/raw_data_refractive_index_Pt.txt'"
   ]
  },
  {
   "cell_type": "code",
   "execution_count": 32,
   "metadata": {
    "scrolled": true
   },
   "outputs": [
    {
     "name": "stdout",
     "output_type": "stream",
     "text": [
      "(3, 516)\n"
     ]
    }
   ],
   "source": [
    "#%% Extract the data\n",
    "data_n = np.loadtxt(raw_data_n, skiprows=2, unpack=True)\n",
    "print(data.shape)"
   ]
  },
  {
   "cell_type": "code",
   "execution_count": 33,
   "metadata": {},
   "outputs": [],
   "source": [
    "energies = data_n[0]\n",
    "deltas = data_n[1]\n",
    "betas = data_n[2]"
   ]
  },
  {
   "cell_type": "code",
   "execution_count": 34,
   "metadata": {
    "scrolled": true
   },
   "outputs": [
    {
     "data": {
      "image/png": "[encoded data removed]",
      "text/plain": [
       "<Figure size 432x288 with 1 Axes>"
      ]
     },
     "metadata": {
      "needs_background": "light"
     },
     "output_type": "display_data"
    }
   ],
   "source": [
    "#%% Plotc the data.\n",
    "\n",
    "fig, ax = plt.subplots()\n",
    "\n",
    "ax.plot(energies, deltas, '-', label=r'$\\delta_\\mathrm{Pt}$')\n",
    "ax.plot(energies, betas, '-', label=r'$\\beta_\\mathrm{Pt}$')\n",
    "\n",
    "ax.axvline(energy_CuKa, color='C2')\n",
    "ax.text(energy_CuKa, 0.2, r'$E=8.05$ keV $\\equiv 1.54\\,A\\!^{\\circ}$ ', transform=ax.get_xaxis_transform(),\n",
    "        rotation='vertical')\n",
    "\n",
    "ax.legend()\n",
    "ax.set_xscale('log')\n",
    "ax.set_yscale('log')\n",
    "\n",
    "# Set the ticks in log scale.\n",
    "major_ticks = mpl.ticker.LogLocator(base=10.0)\n",
    "minor_ticks = mpl.ticker.LogLocator(base=10.0, subs=np.arange(1, 10), numticks=10)\n",
    "\n",
    "#ax.xaxis.set_major_locator(major_ticks)\n",
    "#ax.xaxis.set_minor_locator(minor_ticks)\n",
    "ax.yaxis.set_major_locator(major_ticks)\n",
    "ax.yaxis.set_minor_locator(minor_ticks)\n",
    "\n",
    "ax.set_xlabel(r'$E$ (in eV)')\n",
    "ax.set_ylabel(r'$n(E)= 1 - \\delta(E) + i \\beta(E)$')\n",
    "fig.subplots_adjust(left=0.25, top=0.9)\n",
    "#ax.set_title(r'Material(Pt)')"
   ]
  },
  {
   "cell_type": "code",
   "execution_count": 35,
   "metadata": {},
   "outputs": [],
   "source": [
    "fig.savefig('../assets/images/refractive_index_Pt.png')\n",
    "fig.savefig('../assets/images/refractive_index_Pt.pdf')"
   ]
  },
  {
   "cell_type": "markdown",
   "metadata": {},
   "source": [
    "## Comparison of refractive indices of Co and Pt\n",
    "\n",
    "Let us compare the refractive indices of different metals."
   ]
  },
  {
   "cell_type": "code",
   "execution_count": 36,
   "metadata": {},
   "outputs": [],
   "source": [
    "raw_datas = [\n",
    "                '../assets/raw_data/raw_data_refractive_index_Ta.txt',\n",
    "                '../assets/raw_data/raw_data_refractive_index_Pt.txt',\n",
    "                '../assets/raw_data/raw_data_refractive_index_Co.txt',\n",
    "                #'../assets/raw_data/raw_data_refractive_index_Cu.txt',\n",
    "                '../assets/raw_data/raw_data_refractive_index_Fe.txt',\n",
    "                '../assets/raw_data/raw_data_refractive_index_B.txt'\n",
    "            ]\n",
    "labels = [\n",
    "            r'$\\delta_\\mathrm{Ta}$',\n",
    "            r'$\\delta_\\mathrm{Pt}$',\n",
    "            r'$\\delta_\\mathrm{Co}$',\n",
    "            #r'$\\delta_\\mathrm{Cu}$',\n",
    "            r'$\\delta_\\mathrm{Fe}$',\n",
    "            r'$\\delta_\\mathrm{B}$'\n",
    "         ]"
   ]
  },
  {
   "cell_type": "code",
   "execution_count": 37,
   "metadata": {
    "scrolled": true
   },
   "outputs": [],
   "source": [
    "#%% Extract the data\n",
    "data_n_s = [np.loadtxt(raw_data, skiprows=2, unpack=True) for raw_data in raw_datas]"
   ]
  },
  {
   "cell_type": "code",
   "execution_count": 38,
   "metadata": {},
   "outputs": [],
   "source": [
    "energies = [data_n[0] for data_n in data_n_s]\n",
    "deltas = [data_n[1] for data_n in data_n_s]"
   ]
  },
  {
   "cell_type": "code",
   "execution_count": 39,
   "metadata": {
    "scrolled": true
   },
   "outputs": [
    {
     "data": {
      "image/png": "[encoded data removed]",
      "text/plain": [
       "<Figure size 432x288 with 1 Axes>"
      ]
     },
     "metadata": {
      "needs_background": "light"
     },
     "output_type": "display_data"
    }
   ],
   "source": [
    "#%% Plot the deltas.\n",
    "\n",
    "fig, ax = plt.subplots()\n",
    "\n",
    "xmin = 1e+2\n",
    "\n",
    "for energy, delta, label in zip(energies, deltas, labels):\n",
    "    ax.plot(energy[energy > xmin], delta[energy > xmin], '-', label=label)\n",
    "\n",
    "#ax.plot(energies[2], deltas[2], '-', label=labels[2])\n",
    "\n",
    "ax.axvline(energy_CuKa, color='C2')\n",
    "ax.text(energy_CuKa, 0.2, r'$E=8.05$ keV', transform=ax.get_xaxis_transform(),\n",
    "        rotation='vertical')\n",
    "\n",
    "ax.legend()\n",
    "ax.set_xscale('log')\n",
    "ax.set_yscale('log')\n",
    "ax.set_xlabel(r'$E$ (in eV)')\n",
    "ax.set_ylabel(r'$\\delta(E)$')\n",
    "fig.subplots_adjust(left=0.25, top=0.9)\n",
    "#ax.set_title(r'Material(Pt)')"
   ]
  },
  {
   "cell_type": "code",
   "execution_count": 40,
   "metadata": {},
   "outputs": [],
   "source": [
    "fig.savefig('../assets/images/deltas_Ta_Pt_Co_Fe_B.png')\n",
    "fig.savefig('../assets/images/deltas_Ta_Pt_Co_Fe_B.pdf')"
   ]
  },
  {
   "cell_type": "markdown",
   "metadata": {},
   "source": [
    "### Refractive index of synthetic $Co_3FeB$\n",
    "\n",
    "In a multi atom material, the refractive index is the weighted contributions from each of the atomic species.\n",
    "\n",
    "Since the chemical formula of CoFeB alloy is $Co_{60}Fe_{20}B_{20}$ (at%), we have\n",
    "\n",
    "$$\n",
    "f_\\mathrm{CoFeB} =  \\frac{60 f_\\mathrm{Co} + 20 f_\\mathrm{Fe} + 20 f_\\mathrm{B}}{100}, \n",
    "$$\n",
    "\n",
    "and\n",
    "\n",
    "$$\n",
    "M_\\mathrm{CoFeB} = \\frac{60 M_\\mathrm{Co} + 20 M_\\mathrm{Fe} + 20 M_\\mathrm{B}}{100}.\n",
    "$$"
   ]
  },
  {
   "cell_type": "code",
   "execution_count": 41,
   "metadata": {},
   "outputs": [],
   "source": [
    "raw_datas = [\n",
    "                '../assets/raw_data/raw_data_refractive_index_Cu.txt',\n",
    "                '../assets/raw_data/raw_data_refractive_index_Co.txt',\n",
    "                '../assets/raw_data/raw_data_refractive_index_CoFeB.txt'            ]\n",
    "labels = [\n",
    "            r'$\\delta_\\mathrm{Cu}$',\n",
    "            r'$\\delta_\\mathrm{Co}$',\n",
    "            r'$\\delta_\\mathrm{CoFeB}$'\n",
    "         ]"
   ]
  },
  {
   "cell_type": "code",
   "execution_count": 42,
   "metadata": {
    "scrolled": true
   },
   "outputs": [],
   "source": [
    "#%% Extract the data\n",
    "data_n_s = [np.loadtxt(raw_data, skiprows=2, unpack=True) for raw_data in raw_datas]"
   ]
  },
  {
   "cell_type": "code",
   "execution_count": 43,
   "metadata": {},
   "outputs": [],
   "source": [
    "energies = [data_n[0] for data_n in data_n_s]\n",
    "deltas = [data_n[1] for data_n in data_n_s]"
   ]
  },
  {
   "cell_type": "code",
   "execution_count": 44,
   "metadata": {
    "scrolled": true
   },
   "outputs": [
    {
     "data": {
      "image/png": "[encoded data removed]",
      "text/plain": [
       "<Figure size 432x288 with 1 Axes>"
      ]
     },
     "metadata": {
      "needs_background": "light"
     },
     "output_type": "display_data"
    }
   ],
   "source": [
    "#%% Plot the deltas.\n",
    "\n",
    "fig, ax = plt.subplots()\n",
    "\n",
    "xmin = 5e+3\n",
    "\n",
    "for energy, delta, label in zip(energies, deltas, labels):\n",
    "    ax.plot(energy[energy > xmin], delta[energy > xmin], '-', label=label)\n",
    "\n",
    "#ax.plot(energies[2], deltas[2], '-', label=labels[2])\n",
    "\n",
    "ax.axvline(energy_CuKa, color='C2')\n",
    "ax.text(energy_CuKa, 0.2, r'$E=8.05$ keV', transform=ax.get_xaxis_transform(),\n",
    "        rotation='vertical')\n",
    "\n",
    "ax.legend()\n",
    "#ax.set_xscale('log')\n",
    "ax.set_yscale('log')\n",
    "\n",
    "ax.set_xlim(right=1e+4)\n",
    "ax.set_xlabel(r'$E$ (in eV)')\n",
    "ax.set_ylabel(r'$\\delta(E)$')\n",
    "fig.subplots_adjust(left=0.25, top=0.9)\n",
    "#ax.set_title(r'Material(Pt)')"
   ]
  },
  {
   "cell_type": "code",
   "execution_count": 45,
   "metadata": {},
   "outputs": [
    {
     "data": {
      "text/plain": [
       "20.746202000000004"
      ]
     },
     "execution_count": 45,
     "metadata": {},
     "output_type": "execute_result"
    }
   ],
   "source": [
    "(60*24.6213 + 20*24.8575 + 20*5.00961)/100"
   ]
  },
  {
   "cell_type": "code",
   "execution_count": 46,
   "metadata": {},
   "outputs": [
    {
     "data": {
      "text/plain": [
       "2.7796909600000004"
      ]
     },
     "execution_count": 46,
     "metadata": {},
     "output_type": "execute_result"
    }
   ],
   "source": [
    "(60*3.56198 + 20*3.20844 + 20 * 0.0040748)/100"
   ]
  },
  {
   "cell_type": "code",
   "execution_count": 47,
   "metadata": {},
   "outputs": [
    {
     "data": {
      "text/plain": [
       "48.8"
      ]
     },
     "execution_count": 47,
     "metadata": {},
     "output_type": "execute_result"
    }
   ],
   "source": [
    "(60* 59 + 20* 56 + 20 * 11)/100"
   ]
  },
  {
   "cell_type": "markdown",
   "metadata": {},
   "source": [
    "## Comparison of $\\delta$ and $\\rho$ of the material\n",
    "\n",
    "Given the $\\delta$ and $f_1$, let us estimate the density $\\rho$ of the material.\n",
    "\n",
    "Since\n",
    "\n",
    "$$\n",
    "\\delta_\\mathrm{Pt} =  A_\\mathrm{Pt} \\lambda^2 f_1^\\mathrm{Pt},\n",
    "$$\n",
    "\n",
    "we have\n",
    "\n",
    "$$\n",
    "A_\\mathrm{Pt} = \\frac{\\delta_\\mathrm{Pt}}{\\lambda^2 f_1^\\mathrm{Pt}}.\n",
    "$$"
   ]
  },
  {
   "cell_type": "code",
   "execution_count": 48,
   "metadata": {},
   "outputs": [],
   "source": [
    "f_pt = 73.6633\n",
    "d_pt = 3.8e-5\n",
    "\n",
    "a_pt = d_pt/ lambda_xrr**2 / f_pt"
   ]
  },
  {
   "cell_type": "code",
   "execution_count": 49,
   "metadata": {},
   "outputs": [
    {
     "data": {
      "text/plain": [
       "21752010388129.203"
      ]
     },
     "execution_count": 49,
     "metadata": {},
     "output_type": "execute_result"
    }
   ],
   "source": [
    "a_pt"
   ]
  },
  {
   "cell_type": "markdown",
   "metadata": {},
   "source": [
    "Since \n",
    "\n",
    "$$\n",
    "A_\\mathrm{Pt}  = \\frac{N_A r_e}{2\\pi} \\frac{\\rho_\\mathrm{Pt} }{M_\\mathrm{Pt} }, \n",
    "$$\n",
    "\n",
    "we have\n",
    "\n",
    "$$\n",
    "\\rho_\\mathrm{Pt} =  \\frac{2\\pi}{N_A r_e} A_\\mathrm{Pt} M_\\mathrm{Pt} \n",
    "$$"
   ]
  },
  {
   "cell_type": "code",
   "execution_count": 50,
   "metadata": {},
   "outputs": [],
   "source": [
    "rho_pt_estimate = 2 * pi / (Avogadro* r_e) * a_pt * m_pt"
   ]
  },
  {
   "cell_type": "code",
   "execution_count": 51,
   "metadata": {},
   "outputs": [
    {
     "data": {
      "text/plain": [
       "15711037.683658438"
      ]
     },
     "execution_count": 51,
     "metadata": {},
     "output_type": "execute_result"
    }
   ],
   "source": [
    "rho_pt_estimate"
   ]
  },
  {
   "cell_type": "markdown",
   "metadata": {},
   "source": [
    "The dispersion of atomic scattering factor for atomic species $s$ extracted from the experimentally observed dispersion in refractive index is given by\n",
    "\n",
    "$$\n",
    "f_1 = \\frac{\\delta}{A_{s} \\lambda^2}.\n",
    "$$"
   ]
  },
  {
   "cell_type": "markdown",
   "metadata": {},
   "source": [
    "## References\n",
    "\n"
   ]
  }
 ],
 "metadata": {
  "kernelspec": {
   "display_name": "Python 3",
   "language": "python",
   "name": "python3"
  },
  "language_info": {
   "codemirror_mode": {
    "name": "ipython",
    "version": 3
   },
   "file_extension": ".py",
   "mimetype": "text/x-python",
   "name": "python",
   "nbconvert_exporter": "python",
   "pygments_lexer": "ipython3",
   "version": "3.8.5"
  }
 },
 "nbformat": 4,
 "nbformat_minor": 4
}
